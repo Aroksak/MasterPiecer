{
 "cells": [
  {
   "cell_type": "code",
   "execution_count": 2,
   "metadata": {
    "collapsed": true
   },
   "outputs": [],
   "source": [
    "import pandas as pd\n",
    "import matplotlib.pyplot as plt\n",
    "%matplotlib inline\n",
    "\n",
    "import seaborn as sns\n",
    "sns.set()\n",
    "\n",
    "from pathlib import Path\n",
    "PATH_TO_DATA = Path(\"../data\")"
   ]
  },
  {
   "cell_type": "code",
   "execution_count": 3,
   "outputs": [
    {
     "data": {
      "text/plain": "                                               synopsis     score\n0     История жизни и карьеры основателя одной из са...  6.831878\n1     Наёмный убийца и его бывшая напарница решают п...  6.295901\n2     Фильм рассказывает историю о двух старых прият...  6.859439\n3     После смерти мужа молодая женщина Анна пытаетс...  6.926162\n4     В недалеком будущем человечество захватило Мар...  6.497463\n...                                                 ...       ...\n9995  История о двух молодых парнях из пригорода Май...  6.663953\n9996  Главный герой молодой человек из маленького го...  7.085916\n9997  В поисках приключений трое друзей отправляются...  6.478413\n9998  Наемник Джек Воробей оказывается втянутым в ра...  6.471982\n9999  Действие разворачивается в 1920-е годы, когда ...  6.844335\n\n[10000 rows x 2 columns]",
      "text/html": "<div>\n<style scoped>\n    .dataframe tbody tr th:only-of-type {\n        vertical-align: middle;\n    }\n\n    .dataframe tbody tr th {\n        vertical-align: top;\n    }\n\n    .dataframe thead th {\n        text-align: right;\n    }\n</style>\n<table border=\"1\" class=\"dataframe\">\n  <thead>\n    <tr style=\"text-align: right;\">\n      <th></th>\n      <th>synopsis</th>\n      <th>score</th>\n    </tr>\n  </thead>\n  <tbody>\n    <tr>\n      <th>0</th>\n      <td>История жизни и карьеры основателя одной из са...</td>\n      <td>6.831878</td>\n    </tr>\n    <tr>\n      <th>1</th>\n      <td>Наёмный убийца и его бывшая напарница решают п...</td>\n      <td>6.295901</td>\n    </tr>\n    <tr>\n      <th>2</th>\n      <td>Фильм рассказывает историю о двух старых прият...</td>\n      <td>6.859439</td>\n    </tr>\n    <tr>\n      <th>3</th>\n      <td>После смерти мужа молодая женщина Анна пытаетс...</td>\n      <td>6.926162</td>\n    </tr>\n    <tr>\n      <th>4</th>\n      <td>В недалеком будущем человечество захватило Мар...</td>\n      <td>6.497463</td>\n    </tr>\n    <tr>\n      <th>...</th>\n      <td>...</td>\n      <td>...</td>\n    </tr>\n    <tr>\n      <th>9995</th>\n      <td>История о двух молодых парнях из пригорода Май...</td>\n      <td>6.663953</td>\n    </tr>\n    <tr>\n      <th>9996</th>\n      <td>Главный герой молодой человек из маленького го...</td>\n      <td>7.085916</td>\n    </tr>\n    <tr>\n      <th>9997</th>\n      <td>В поисках приключений трое друзей отправляются...</td>\n      <td>6.478413</td>\n    </tr>\n    <tr>\n      <th>9998</th>\n      <td>Наемник Джек Воробей оказывается втянутым в ра...</td>\n      <td>6.471982</td>\n    </tr>\n    <tr>\n      <th>9999</th>\n      <td>Действие разворачивается в 1920-е годы, когда ...</td>\n      <td>6.844335</td>\n    </tr>\n  </tbody>\n</table>\n<p>10000 rows × 2 columns</p>\n</div>"
     },
     "execution_count": 3,
     "metadata": {},
     "output_type": "execute_result"
    }
   ],
   "source": [
    "result = pd.read_csv(PATH_TO_DATA / \"result.csv\")\n",
    "result"
   ],
   "metadata": {
    "collapsed": false,
    "pycharm": {
     "name": "#%%\n"
    }
   }
  },
  {
   "cell_type": "code",
   "execution_count": 5,
   "outputs": [
    {
     "data": {
      "text/plain": "<Figure size 432x288 with 1 Axes>",
      "image/png": "[encoded data removed]"
     },
     "metadata": {},
     "output_type": "display_data"
    }
   ],
   "source": [
    "sns.violinplot(result['score']);"
   ],
   "metadata": {
    "collapsed": false,
    "pycharm": {
     "name": "#%%\n"
    }
   }
  },
  {
   "cell_type": "code",
   "execution_count": 12,
   "outputs": [
    {
     "name": "stdout",
     "output_type": "stream",
     "text": [
      "После того, как агент ЦРУ Уилл Риверс был схвачен и осужден на пожизненное заключение, ему приходится вернуться в родной городишко. Но в результате жестокого ограбления он оказывается в эпицентре террористической базы, где его ждут новые испытания. В плену у банды, занимающейся контрабандой оружия, Риверсу становится ясно, что он не справится ни с какими противниками. Однако в глубине души он продолжает считать, что он самый сильный и лучший из лучших…\n",
      "Действие картины разворачивается в Нью-Йорке. В центре истории молодой талантливый адвокат, у которого не хватает одного дела на всю страну, и потому он вынужден обратиться за помощью к своему бывшему боссу, с просьбой о помощи в организации защиты свидетелей обвинения против особо опасных преступников. В качестве примера адвокат приводит случай из практики своего клиента — он был обвинен в убийстве своего друга, когда тот был подростком.\n",
      "Действие фильма развернется в начале 1980-х, в Нью-Йорке. Молодой журналист, увлекающийся проблемами городского дна, знакомится с женщиной, которая ему в этом поможет. Вместе они решают сделать невозможное — создать собственную газету. Это путешествие во времени и пространстве должно стать переломным моментом в истории города Нью-Йорк.\n",
      "В начале 1970-х в Голливуде состоялась встреча двух кинозвезд — Эммета и Роксанны — Эммету надо было снять крупный фильм, а не просто фильм для каталога. Они решили сыграть в американский футбол и решили начать с главного героя. Фильм, который они задумали, называется «История о двух героях»…\n",
      "История жизни и гибели Джона Леннона. Фильм расскажет о нелегких буднях его семьи, их семейных отношениях и личной судьбе. О тех страшных днях и ужасах, которые пришлось пережить трем сыновьям Леннона, трем сыновьям его жены, трем дочерям его отца…\n",
      "Фильм рассказывает о жизни легендарного пилота Джона Леннокса и его команды «Нормандиев» — людей, сражающихся с силами тьмы. Герои отважно отстаивают свои права, помогая людям и помогая самим стать теми, кем им хочется. В своих победах они полностью оттенили представления об идеальных пилотах, которые когда-то вдохновляли на взлет целые поколения.\n",
      "Главный герой фильма бывший спецназовец, работающий под прикрытием в Ираке. Когда его напарником становится афроамериканец, ситуация приобретает катастрофический оборот. Его цель — спасти свою девушку и спасти мир от гибели. Героине предстоит сделать невозможное: она должна стать «второй матерью» для брата погибшей…\n",
      "История жизни и смерти Джона Майерса — легендарного чемпиона по боксу, ставшего легендарным чемпионом мира по боксу. В 1986 году Джон потерял своего лучшего партнера во время поединка с чемпионом мира по боксу Джеймсом Маршаллом, проигравшего в серии тяжелых, кровопролитных, но победнейших поединков.\n",
      "В центре истории — подросток с Уолл Стрит и молодой парень, живущий неподалеку от него. Их дружба выросла после того, как они встретились на школьной дискотеке. Но однажды парень неожиданно убивает девушку. А вскоре и его жизнь оказывается в опасности. Герой узнает о том, что за ним охотятся, и решает отомстить. Он похищает невесту героя, но она сбегает от своих поклонников и попадает в руки таинственного незнакомца.\n",
      "В детстве Бобби и Бобби обедали вместе. После школы они переезжают в маленький мотельчик неподалеку от Майами. Здесь Бобби начинает заниматься акробатикой, а Бобби — самообслуживанием. Они начинают вместе ходить в бассейн, а затем отправляются на рыбалку. И вот, наконец, наступил день их первого чемпионата в американском весе. На этот раз Бобби и его новому приятелю предстоит пройти невероятные испытания, чтобы победить, но чтобы стать настоящими профессионалами, им придётся преодолеть не только свою неопытность, но и свои детские страхи и страхи.\n"
     ]
    }
   ],
   "source": [
    "result.sort_values(\"score\", ascending=False)['synopsis'].head(10).apply(print, end='\\n\\n');"
   ],
   "metadata": {
    "collapsed": false,
    "pycharm": {
     "name": "#%%\n"
    }
   }
  },
  {
   "cell_type": "code",
   "execution_count": 11,
   "outputs": [
    {
     "name": "stdout",
     "output_type": "stream",
     "text": [
      "История об американке, которая пытается наладить отношения с молодым человеком после того, как узнала, что ее муж является маньяком и угрожает расправой над ее детьми.\n",
      "В недалеком будущем инопланетяне заселили наш мир и создали свой вид разумных существ, но не только. Они еще нападают и грабят Землю. Однажды на Землю прибывает группа ученых, чтобы спасти человечество. Их миссия спасти одну девушку и выяснить, что случилось с ее отцом.\n",
      "После убийства своего отца в Лос-Анджелесе убийца решает избавиться и от дочери. В то время как его конкуренты пытаются вычислить и уничтожить подозреваемого, их собственные родители ведут собственное расследование, направленное против них. Теперь у них остается единственный шанс найти убийцу, который мог бы уничтожить их дочь.\n",
      "После убийства своей матери она начинает понимать, что ее прошлое не имеет ничего общего с реальностью. Ей кажется, что она может вернуться назад. Но сначала ей нужно найти убийцу матери. Но прежде она должна спасти свою сестру. Для этого ей нужно отыскать ее убийцу и выяснить, правда ли она была убита\n",
      "Когда в жизни молодой пары случается чудо и они становятся родителями двух очаровательных детей, им приходится столкнуться с самыми страшными последствиями своей нелюдимой и безжалостной жизни.\n"
     ]
    }
   ],
   "source": [
    "result.sort_values(\"score\", ascending=False)['synopsis'].tail(5).apply(print, end='\\n\\n');\n"
   ],
   "metadata": {
    "collapsed": false,
    "pycharm": {
     "name": "#%%\n"
    }
   }
  }
 ],
 "metadata": {
  "kernelspec": {
   "display_name": "Python 3",
   "language": "python",
   "name": "python3"
  },
  "language_info": {
   "codemirror_mode": {
    "name": "ipython",
    "version": 2
   },
   "file_extension": ".py",
   "mimetype": "text/x-python",
   "name": "python",
   "nbconvert_exporter": "python",
   "pygments_lexer": "ipython2",
   "version": "2.7.6"
  }
 },
 "nbformat": 4,
 "nbformat_minor": 0
}