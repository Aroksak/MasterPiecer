{
 "cells": [
  {
   "cell_type": "code",
   "execution_count": 8,
   "metadata": {
    "collapsed": true
   },
   "outputs": [
    {
     "name": "stderr",
     "output_type": "stream",
     "text": [
      "/home/sakar/anaconda3/envs/MasterPiecer/lib/python3.8/site-packages/tqdm/std.py:668: FutureWarning: The Panel class is removed from pandas. Accessing it from the top-level namespace will also be removed in the next version\n",
      "  from pandas import Panel\n"
     ]
    }
   ],
   "source": [
    "import torch\n",
    "from transformers import BertTokenizer, BertForSequenceClassification, AdamW, get_linear_schedule_with_warmup\n",
    "from torch.utils.data import DataLoader, RandomSampler, SequentialSampler, TensorDataset, random_split\n",
    "import pandas as pd\n",
    "import numpy as np\n",
    "import random\n",
    "import time\n",
    "import datetime\n",
    "\n",
    "from tqdm import tqdm\n",
    "tqdm.pandas()\n",
    "\n",
    "from pathlib import Path\n",
    "PATH_TO_DATA = Path(\"../data\")\n",
    "PATH_TO_MODELS = Path(\"../models\")"
   ]
  },
  {
   "cell_type": "code",
   "execution_count": 3,
   "outputs": [],
   "source": [
    "tokenizer = BertTokenizer.from_pretrained(\n",
    "    str(PATH_TO_MODELS / \"rubert_cased_L-12_H-768_A-12_pt\"),\n",
    "    do_lower_case=False\n",
    ")"
   ],
   "metadata": {
    "collapsed": false,
    "pycharm": {
     "name": "#%%\n"
    }
   }
  },
  {
   "cell_type": "code",
   "execution_count": 4,
   "outputs": [
    {
     "data": {
      "text/plain": "'GeForce GTX 1060'"
     },
     "execution_count": 4,
     "metadata": {},
     "output_type": "execute_result"
    }
   ],
   "source": [
    "device = torch.device(\"cuda\" if torch.cuda.is_available() else \"cpu\")\n",
    "torch.cuda.get_device_name(device)"
   ],
   "metadata": {
    "collapsed": false,
    "pycharm": {
     "name": "#%%\n"
    }
   }
  },
  {
   "cell_type": "code",
   "execution_count": 5,
   "outputs": [],
   "source": [
    "model = torch.load(str(PATH_TO_MODELS / \"rater_trained.dump\")).to(device)"
   ],
   "metadata": {
    "collapsed": false,
    "pycharm": {
     "name": "#%%\n"
    }
   }
  },
  {
   "cell_type": "code",
   "execution_count": 6,
   "outputs": [],
   "source": [
    "def predict_score(synopsis):\n",
    "    encoded_dict = tokenizer.encode_plus(\n",
    "        synopsis,\n",
    "        add_special_tokens=True,\n",
    "        max_length=320,\n",
    "        pad_to_max_length=True,\n",
    "        return_attention_mask=True,\n",
    "        return_tensors='pt'\n",
    "    )\n",
    "    return model(encoded_dict['input_ids'].to(device),\n",
    "                 attention_mask=encoded_dict['attention_mask'].to(device))[0].cpu().item()"
   ],
   "metadata": {
    "collapsed": false,
    "pycharm": {
     "name": "#%%\n"
    }
   }
  },
  {
   "cell_type": "code",
   "execution_count": 7,
   "outputs": [
    {
     "data": {
      "text/plain": "                                               synopsis\n0     История жизни и карьеры основателя одной из са...\n1     Наёмный убийца и его бывшая напарница решают п...\n2     Фильм рассказывает историю о двух старых прият...\n3     После смерти мужа молодая женщина Анна пытаетс...\n4     В недалеком будущем человечество захватило Мар...\n...                                                 ...\n9995  История о двух молодых парнях из пригорода Май...\n9996  Главный герой молодой человек из маленького го...\n9997  В поисках приключений трое друзей отправляются...\n9998  Наемник Джек Воробей оказывается втянутым в ра...\n9999  Действие разворачивается в 1920-е годы, когда ...\n\n[10000 rows x 1 columns]",
      "text/html": "<div>\n<style scoped>\n    .dataframe tbody tr th:only-of-type {\n        vertical-align: middle;\n    }\n\n    .dataframe tbody tr th {\n        vertical-align: top;\n    }\n\n    .dataframe thead th {\n        text-align: right;\n    }\n</style>\n<table border=\"1\" class=\"dataframe\">\n  <thead>\n    <tr style=\"text-align: right;\">\n      <th></th>\n      <th>synopsis</th>\n    </tr>\n  </thead>\n  <tbody>\n    <tr>\n      <th>0</th>\n      <td>История жизни и карьеры основателя одной из са...</td>\n    </tr>\n    <tr>\n      <th>1</th>\n      <td>Наёмный убийца и его бывшая напарница решают п...</td>\n    </tr>\n    <tr>\n      <th>2</th>\n      <td>Фильм рассказывает историю о двух старых прият...</td>\n    </tr>\n    <tr>\n      <th>3</th>\n      <td>После смерти мужа молодая женщина Анна пытаетс...</td>\n    </tr>\n    <tr>\n      <th>4</th>\n      <td>В недалеком будущем человечество захватило Мар...</td>\n    </tr>\n    <tr>\n      <th>...</th>\n      <td>...</td>\n    </tr>\n    <tr>\n      <th>9995</th>\n      <td>История о двух молодых парнях из пригорода Май...</td>\n    </tr>\n    <tr>\n      <th>9996</th>\n      <td>Главный герой молодой человек из маленького го...</td>\n    </tr>\n    <tr>\n      <th>9997</th>\n      <td>В поисках приключений трое друзей отправляются...</td>\n    </tr>\n    <tr>\n      <th>9998</th>\n      <td>Наемник Джек Воробей оказывается втянутым в ра...</td>\n    </tr>\n    <tr>\n      <th>9999</th>\n      <td>Действие разворачивается в 1920-е годы, когда ...</td>\n    </tr>\n  </tbody>\n</table>\n<p>10000 rows × 1 columns</p>\n</div>"
     },
     "execution_count": 7,
     "metadata": {},
     "output_type": "execute_result"
    }
   ],
   "source": [
    "synopses = pd.read_csv(PATH_TO_DATA / \"synops.csv\")\n",
    "synopses"
   ],
   "metadata": {
    "collapsed": false,
    "pycharm": {
     "name": "#%%\n"
    }
   }
  },
  {
   "cell_type": "code",
   "execution_count": 9,
   "outputs": [
    {
     "name": "stderr",
     "output_type": "stream",
     "text": [
      "100%|██████████| 10000/10000 [06:15<00:00, 26.62it/s]\n"
     ]
    }
   ],
   "source": [
    "synopses['score'] = synopses['synopsis'].progress_apply(predict_score)"
   ],
   "metadata": {
    "collapsed": false,
    "pycharm": {
     "name": "#%%\n"
    }
   }
  },
  {
   "cell_type": "code",
   "execution_count": 11,
   "outputs": [],
   "source": [
    "synopses.to_csv(PATH_TO_DATA / \"result.csv\", index=False)\n"
   ],
   "metadata": {
    "collapsed": false,
    "pycharm": {
     "name": "#%%\n"
    }
   }
  }
 ],
 "metadata": {
  "kernelspec": {
   "display_name": "Python 3",
   "language": "python",
   "name": "python3"
  },
  "language_info": {
   "codemirror_mode": {
    "name": "ipython",
    "version": 2
   },
   "file_extension": ".py",
   "mimetype": "text/x-python",
   "name": "python",
   "nbconvert_exporter": "python",
   "pygments_lexer": "ipython2",
   "version": "2.7.6"
  }
 },
 "nbformat": 4,
 "nbformat_minor": 0
}