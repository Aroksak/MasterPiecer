{
 "cells": [
  {
   "cell_type": "markdown",
   "metadata": {},
   "source": [
    "# Explonatory Data Analysis"
   ]
  },
  {
   "cell_type": "markdown",
   "metadata": {},
   "source": [
    "After I have scrapped data for almost 5k movies, it is time to examine it, particually focusing on synopses."
   ]
  },
  {
   "cell_type": "code",
   "execution_count": 1,
   "metadata": {
    "collapsed": true
   },
   "outputs": [],
   "source": [
    "import pandas as pd\n",
    "import matplotlib.pyplot as plt\n",
    "%matplotlib inline\n",
    "import seaborn as sns\n",
    "sns.set()\n",
    "\n",
    "from pathlib import Path\n",
    "PATH_TO_DATA = Path(\"../data\")"
   ]
  },
  {
   "cell_type": "markdown",
   "metadata": {},
   "source": [
    "First, let's load the data file I created during scrapping and look at it's content."
   ]
  },
  {
   "cell_type": "code",
   "execution_count": 7,
   "metadata": {
    "pycharm": {
     "name": "#%%\n"
    }
   },
   "outputs": [
    {
     "name": "stdout",
     "output_type": "stream",
     "text": [
      "<class 'pandas.core.frame.DataFrame'>\n",
      "RangeIndex: 4786 entries, 0 to 4785\n",
      "Data columns (total 24 columns):\n",
      " #   Column           Non-Null Count  Dtype  \n",
      "---  ------           --------------  -----  \n",
      " 0   id               4786 non-null   int64  \n",
      " 1   title_ru         4786 non-null   object \n",
      " 2   title_orig       4680 non-null   object \n",
      " 3   duration         4754 non-null   object \n",
      " 4   slogan           4786 non-null   object \n",
      " 5   year             4786 non-null   float64\n",
      " 6   country          4786 non-null   object \n",
      " 7   director         4786 non-null   object \n",
      " 8   cast             4786 non-null   object \n",
      " 9   script           4778 non-null   object \n",
      " 10  producer         4785 non-null   object \n",
      " 11  operator         4777 non-null   object \n",
      " 12  composer         4638 non-null   object \n",
      " 13  artist           4749 non-null   object \n",
      " 14  montage          4737 non-null   object \n",
      " 15  genre            4786 non-null   object \n",
      " 16  budget           4039 non-null   object \n",
      " 17  cash_USA         4039 non-null   object \n",
      " 18  cash_total       3568 non-null   object \n",
      " 19  cash_russia      1641 non-null   object \n",
      " 20  kinopoisk_score  4786 non-null   float64\n",
      " 21  imdb_score       4785 non-null   float64\n",
      " 22  critics_score    4158 non-null   object \n",
      " 23  synopsis         4786 non-null   object \n",
      "dtypes: float64(3), int64(1), object(20)\n",
      "memory usage: 897.5+ KB\n",
      "None\n"
     ]
    },
    {
     "data": {
      "text/html": [
       "<div>\n",
       "<style scoped>\n",
       "    .dataframe tbody tr th:only-of-type {\n",
       "        vertical-align: middle;\n",
       "    }\n",
       "\n",
       "    .dataframe tbody tr th {\n",
       "        vertical-align: top;\n",
       "    }\n",
       "\n",
       "    .dataframe thead th {\n",
       "        text-align: right;\n",
       "    }\n",
       "</style>\n",
       "<table border=\"1\" class=\"dataframe\">\n",
       "  <thead>\n",
       "    <tr style=\"text-align: right;\">\n",
       "      <th></th>\n",
       "      <th>id</th>\n",
       "      <th>title_ru</th>\n",
       "      <th>title_orig</th>\n",
       "      <th>duration</th>\n",
       "      <th>slogan</th>\n",
       "      <th>year</th>\n",
       "      <th>country</th>\n",
       "      <th>director</th>\n",
       "      <th>cast</th>\n",
       "      <th>script</th>\n",
       "      <th>...</th>\n",
       "      <th>montage</th>\n",
       "      <th>genre</th>\n",
       "      <th>budget</th>\n",
       "      <th>cash_USA</th>\n",
       "      <th>cash_total</th>\n",
       "      <th>cash_russia</th>\n",
       "      <th>kinopoisk_score</th>\n",
       "      <th>imdb_score</th>\n",
       "      <th>critics_score</th>\n",
       "      <th>synopsis</th>\n",
       "    </tr>\n",
       "  </thead>\n",
       "  <tbody>\n",
       "    <tr>\n",
       "      <th>0</th>\n",
       "      <td>326</td>\n",
       "      <td>Побег из Шоушенка</td>\n",
       "      <td>The Shawshank Redemption</td>\n",
       "      <td>02:16:48</td>\n",
       "      <td>«Страх - это кандалы. Надежда - это свобода»</td>\n",
       "      <td>1994.0</td>\n",
       "      <td>США</td>\n",
       "      <td>Фрэнк Дарабонт</td>\n",
       "      <td>Тим Роббинс, Морган Фриман, Боб Гантон, Уильям...</td>\n",
       "      <td>Фрэнк Дарабонт, Стивен Кинг</td>\n",
       "      <td>...</td>\n",
       "      <td>Ричард Фрэнсис-Брюс</td>\n",
       "      <td>драма</td>\n",
       "      <td>$25 000 000</td>\n",
       "      <td>$28 341 469</td>\n",
       "      <td>+ $77 218 = $28 418 687, сборы</td>\n",
       "      <td>$87 432</td>\n",
       "      <td>9.111</td>\n",
       "      <td>9.3</td>\n",
       "      <td>90%</td>\n",
       "      <td>Бухгалтер Энди Дюфрейн обвинён в убийстве собс...</td>\n",
       "    </tr>\n",
       "    <tr>\n",
       "      <th>1</th>\n",
       "      <td>435</td>\n",
       "      <td>Зеленая миля</td>\n",
       "      <td>The Green Mile</td>\n",
       "      <td>03:08:45</td>\n",
       "      <td>«Пол Эджкомб не верил в чудеса. Пока не столкн...</td>\n",
       "      <td>1999.0</td>\n",
       "      <td>США</td>\n",
       "      <td>Фрэнк Дарабонт</td>\n",
       "      <td>Том Хэнкс, Дэвид Морс, Бонни Хант, Майкл Кларк...</td>\n",
       "      <td>Фрэнк Дарабонт, Стивен Кинг</td>\n",
       "      <td>...</td>\n",
       "      <td>Ричард Фрэнсис-Брюс</td>\n",
       "      <td>фантастика, драма, криминал, детектив</td>\n",
       "      <td>$60 000 000</td>\n",
       "      <td>$136 801 374</td>\n",
       "      <td>+ $150 000 000 = $286 801 374, сборы</td>\n",
       "      <td>NaN</td>\n",
       "      <td>9.062</td>\n",
       "      <td>8.6</td>\n",
       "      <td>78%</td>\n",
       "      <td>Пол Эджкомб — начальник блока смертников в тюр...</td>\n",
       "    </tr>\n",
       "    <tr>\n",
       "      <th>2</th>\n",
       "      <td>448</td>\n",
       "      <td>Форрест Гамп</td>\n",
       "      <td>Forrest Gump</td>\n",
       "      <td>02:22:09</td>\n",
       "      <td>«Мир уже никогда не будет прежним, после того ...</td>\n",
       "      <td>1994.0</td>\n",
       "      <td>США</td>\n",
       "      <td>Роберт Земекис</td>\n",
       "      <td>Том Хэнкс, Робин Райт, Салли Филд, Гэри Синиз,...</td>\n",
       "      <td>Эрик Рот, Уинстон Грум</td>\n",
       "      <td>...</td>\n",
       "      <td>Артур Шмидт</td>\n",
       "      <td>драма, мелодрама, комедия, история, военный</td>\n",
       "      <td>$55 000 000</td>\n",
       "      <td>$329 694 499</td>\n",
       "      <td>+ $347 693 217 = $677 387 716, сборы</td>\n",
       "      <td>$84 460</td>\n",
       "      <td>8.913</td>\n",
       "      <td>8.8</td>\n",
       "      <td>70%</td>\n",
       "      <td>От лица главного героя Форреста Гампа, слабоум...</td>\n",
       "    </tr>\n",
       "    <tr>\n",
       "      <th>3</th>\n",
       "      <td>329</td>\n",
       "      <td>Список Шиндлера</td>\n",
       "      <td>Schindler's List</td>\n",
       "      <td>03:15:23</td>\n",
       "      <td>«Этот список - жизнь»</td>\n",
       "      <td>1993.0</td>\n",
       "      <td>США</td>\n",
       "      <td>Стивен Спилберг</td>\n",
       "      <td>Лиам Нисон, Бен Кингсли, Рэйф Файнс, Кэролайн ...</td>\n",
       "      <td>Стивен Зеллиан, Томас Кенилли</td>\n",
       "      <td>...</td>\n",
       "      <td>Майкл Кан</td>\n",
       "      <td>драма, биография, история, военный</td>\n",
       "      <td>$22 000 000</td>\n",
       "      <td>$96 065 768</td>\n",
       "      <td>+ $225 240 537 = $321 306 305, сборы</td>\n",
       "      <td>NaN</td>\n",
       "      <td>8.818</td>\n",
       "      <td>8.9</td>\n",
       "      <td>97%</td>\n",
       "      <td>Фильм рассказывает реальную историю загадочног...</td>\n",
       "    </tr>\n",
       "    <tr>\n",
       "      <th>4</th>\n",
       "      <td>447301</td>\n",
       "      <td>Начало</td>\n",
       "      <td>Inception</td>\n",
       "      <td>02:28:06</td>\n",
       "      <td>«Твой разум - место преступления»</td>\n",
       "      <td>2010.0</td>\n",
       "      <td>США, Великобритания</td>\n",
       "      <td>Кристофер Нолан</td>\n",
       "      <td>Леонардо ДиКаприо, Джозеф Гордон-Левитт, Эллен...</td>\n",
       "      <td>Кристофер Нолан</td>\n",
       "      <td>...</td>\n",
       "      <td>Ли Смит</td>\n",
       "      <td>фантастика, боевик, триллер, драма, детектив</td>\n",
       "      <td>$160 000 000</td>\n",
       "      <td>$292 576 195</td>\n",
       "      <td>+ $535 745 837 = $828 322 032, сборы</td>\n",
       "      <td>$21 760 177</td>\n",
       "      <td>8.662</td>\n",
       "      <td>8.8</td>\n",
       "      <td>87%</td>\n",
       "      <td>Кобб — талантливый вор, лучший из лучших в опа...</td>\n",
       "    </tr>\n",
       "    <tr>\n",
       "      <th>...</th>\n",
       "      <td>...</td>\n",
       "      <td>...</td>\n",
       "      <td>...</td>\n",
       "      <td>...</td>\n",
       "      <td>...</td>\n",
       "      <td>...</td>\n",
       "      <td>...</td>\n",
       "      <td>...</td>\n",
       "      <td>...</td>\n",
       "      <td>...</td>\n",
       "      <td>...</td>\n",
       "      <td>...</td>\n",
       "      <td>...</td>\n",
       "      <td>...</td>\n",
       "      <td>...</td>\n",
       "      <td>...</td>\n",
       "      <td>...</td>\n",
       "      <td>...</td>\n",
       "      <td>...</td>\n",
       "      <td>...</td>\n",
       "      <td>...</td>\n",
       "    </tr>\n",
       "    <tr>\n",
       "      <th>4781</th>\n",
       "      <td>771753</td>\n",
       "      <td>Черная роза</td>\n",
       "      <td>NaN</td>\n",
       "      <td>01:41</td>\n",
       "      <td>«Он - русский неудержимый»</td>\n",
       "      <td>2014.0</td>\n",
       "      <td>США, Россия</td>\n",
       "      <td>Александр Невский</td>\n",
       "      <td>Александр Невский, Кристанна Локен, Эдриан Пол...</td>\n",
       "      <td>Брент Хафф, Джордж Саундерс</td>\n",
       "      <td>...</td>\n",
       "      <td>Стивен Адриансон</td>\n",
       "      <td>детектив, триллер, криминал</td>\n",
       "      <td>NaN</td>\n",
       "      <td>NaN</td>\n",
       "      <td>сборы</td>\n",
       "      <td>$887 615, сборы</td>\n",
       "      <td>1.433</td>\n",
       "      <td>2.5</td>\n",
       "      <td>22%</td>\n",
       "      <td>Майор московской полиции отправляется в Лос-Ан...</td>\n",
       "    </tr>\n",
       "    <tr>\n",
       "      <th>4782</th>\n",
       "      <td>276129</td>\n",
       "      <td>Цветок дьявола</td>\n",
       "      <td>NaN</td>\n",
       "      <td>02:25</td>\n",
       "      <td>«Искушение неизбежно»</td>\n",
       "      <td>2010.0</td>\n",
       "      <td>Россия</td>\n",
       "      <td>Екатерина Гроховская</td>\n",
       "      <td>Ольга Хохлова, Сергей Крапивенцев, Олег Сукаче...</td>\n",
       "      <td>Екатерина Гроховская</td>\n",
       "      <td>...</td>\n",
       "      <td>Руслан Габдрахманов</td>\n",
       "      <td>фэнтези, триллер, мелодрама</td>\n",
       "      <td>NaN</td>\n",
       "      <td>NaN</td>\n",
       "      <td>сборы</td>\n",
       "      <td>$1 852 960, сборы</td>\n",
       "      <td>1.410</td>\n",
       "      <td>1.5</td>\n",
       "      <td>NaN</td>\n",
       "      <td>Студентке Полине снится загадочный цветок на в...</td>\n",
       "    </tr>\n",
       "    <tr>\n",
       "      <th>4783</th>\n",
       "      <td>14888</td>\n",
       "      <td>Красный змей</td>\n",
       "      <td>NaN</td>\n",
       "      <td>02:44</td>\n",
       "      <td>«You Never Know When He'll Strike»</td>\n",
       "      <td>2003.0</td>\n",
       "      <td>Россия, Германия</td>\n",
       "      <td>Джино Танасеску</td>\n",
       "      <td>Майкл Паре, Рой Шайдер, Олег Тактаров, Ирина А...</td>\n",
       "      <td>Дрю Флеминг, Алекс Кустанович, Рамиль Ямалеев</td>\n",
       "      <td>...</td>\n",
       "      <td>Мэтт Гарри</td>\n",
       "      <td>боевик, приключения</td>\n",
       "      <td>NaN</td>\n",
       "      <td>NaN</td>\n",
       "      <td>NaN</td>\n",
       "      <td>NaN</td>\n",
       "      <td>1.373</td>\n",
       "      <td>1.8</td>\n",
       "      <td>NaN</td>\n",
       "      <td>Стив Николс приезжает в Москву заключить контр...</td>\n",
       "    </tr>\n",
       "    <tr>\n",
       "      <th>4784</th>\n",
       "      <td>195583</td>\n",
       "      <td>Охотники за сокровищами</td>\n",
       "      <td>Treasure Raiders</td>\n",
       "      <td>01:32</td>\n",
       "      <td>«Speed is part of the game...»</td>\n",
       "      <td>2007.0</td>\n",
       "      <td>США</td>\n",
       "      <td>Брент Хафф</td>\n",
       "      <td>Александр Невский, Стивен Брэнд, Дэвид Кэрреди...</td>\n",
       "      <td>Александр Изотов, Александр Невский</td>\n",
       "      <td>...</td>\n",
       "      <td>Майкл Трент</td>\n",
       "      <td>боевик, драма, приключения</td>\n",
       "      <td>NaN</td>\n",
       "      <td>NaN</td>\n",
       "      <td>NaN</td>\n",
       "      <td>NaN</td>\n",
       "      <td>1.349</td>\n",
       "      <td>2.7</td>\n",
       "      <td>NaN</td>\n",
       "      <td>Американский профессор русского происхождения ...</td>\n",
       "    </tr>\n",
       "    <tr>\n",
       "      <th>4785</th>\n",
       "      <td>408888</td>\n",
       "      <td>Мантикора</td>\n",
       "      <td>NaN</td>\n",
       "      <td>01:25</td>\n",
       "      <td>-</td>\n",
       "      <td>2011.0</td>\n",
       "      <td>Россия</td>\n",
       "      <td>Вл.Китт, Ева Белова</td>\n",
       "      <td>Алексей Завьялов, Екатерина Каренина, Сергей Б...</td>\n",
       "      <td>Вл.Китт</td>\n",
       "      <td>...</td>\n",
       "      <td>Вл.Китт</td>\n",
       "      <td>триллер</td>\n",
       "      <td>NaN</td>\n",
       "      <td>NaN</td>\n",
       "      <td>сборы</td>\n",
       "      <td>$1 756 511, сборы</td>\n",
       "      <td>1.110</td>\n",
       "      <td>1.2</td>\n",
       "      <td>NaN</td>\n",
       "      <td>На ночных дорогах Москвы опасно  одна за друг...</td>\n",
       "    </tr>\n",
       "  </tbody>\n",
       "</table>\n",
       "<p>4786 rows × 24 columns</p>\n",
       "</div>"
      ],
      "text/plain": [
       "          id                 title_ru                title_orig  duration  \\\n",
       "0        326        Побег из Шоушенка  The Shawshank Redemption  02:16:48   \n",
       "1        435             Зеленая миля            The Green Mile  03:08:45   \n",
       "2        448             Форрест Гамп              Forrest Gump  02:22:09   \n",
       "3        329          Список Шиндлера          Schindler's List  03:15:23   \n",
       "4     447301                  Начало                  Inception  02:28:06   \n",
       "...      ...                      ...                       ...       ...   \n",
       "4781  771753              Черная роза                       NaN     01:41   \n",
       "4782  276129           Цветок дьявола                       NaN     02:25   \n",
       "4783   14888             Красный змей                       NaN     02:44   \n",
       "4784  195583  Охотники за сокровищами          Treasure Raiders     01:32   \n",
       "4785  408888                Мантикора                       NaN     01:25   \n",
       "\n",
       "                                                 slogan    year  \\\n",
       "0          «Страх - это кандалы. Надежда - это свобода»  1994.0   \n",
       "1     «Пол Эджкомб не верил в чудеса. Пока не столкн...  1999.0   \n",
       "2     «Мир уже никогда не будет прежним, после того ...  1994.0   \n",
       "3                                 «Этот список - жизнь»  1993.0   \n",
       "4                     «Твой разум - место преступления»  2010.0   \n",
       "...                                                 ...     ...   \n",
       "4781                         «Он - русский неудержимый»  2014.0   \n",
       "4782                              «Искушение неизбежно»  2010.0   \n",
       "4783                 «You Never Know When He'll Strike»  2003.0   \n",
       "4784                     «Speed is part of the game...»  2007.0   \n",
       "4785                                                  -  2011.0   \n",
       "\n",
       "                  country              director  \\\n",
       "0                     США        Фрэнк Дарабонт   \n",
       "1                     США        Фрэнк Дарабонт   \n",
       "2                     США        Роберт Земекис   \n",
       "3                     США       Стивен Спилберг   \n",
       "4     США, Великобритания       Кристофер Нолан   \n",
       "...                   ...                   ...   \n",
       "4781          США, Россия     Александр Невский   \n",
       "4782               Россия  Екатерина Гроховская   \n",
       "4783     Россия, Германия       Джино Танасеску   \n",
       "4784                  США            Брент Хафф   \n",
       "4785               Россия   Вл.Китт, Ева Белова   \n",
       "\n",
       "                                                   cast  \\\n",
       "0     Тим Роббинс, Морган Фриман, Боб Гантон, Уильям...   \n",
       "1     Том Хэнкс, Дэвид Морс, Бонни Хант, Майкл Кларк...   \n",
       "2     Том Хэнкс, Робин Райт, Салли Филд, Гэри Синиз,...   \n",
       "3     Лиам Нисон, Бен Кингсли, Рэйф Файнс, Кэролайн ...   \n",
       "4     Леонардо ДиКаприо, Джозеф Гордон-Левитт, Эллен...   \n",
       "...                                                 ...   \n",
       "4781  Александр Невский, Кристанна Локен, Эдриан Пол...   \n",
       "4782  Ольга Хохлова, Сергей Крапивенцев, Олег Сукаче...   \n",
       "4783  Майкл Паре, Рой Шайдер, Олег Тактаров, Ирина А...   \n",
       "4784  Александр Невский, Стивен Брэнд, Дэвид Кэрреди...   \n",
       "4785  Алексей Завьялов, Екатерина Каренина, Сергей Б...   \n",
       "\n",
       "                                             script  ...              montage  \\\n",
       "0                       Фрэнк Дарабонт, Стивен Кинг  ...  Ричард Фрэнсис-Брюс   \n",
       "1                       Фрэнк Дарабонт, Стивен Кинг  ...  Ричард Фрэнсис-Брюс   \n",
       "2                            Эрик Рот, Уинстон Грум  ...          Артур Шмидт   \n",
       "3                     Стивен Зеллиан, Томас Кенилли  ...            Майкл Кан   \n",
       "4                                   Кристофер Нолан  ...              Ли Смит   \n",
       "...                                             ...  ...                  ...   \n",
       "4781                    Брент Хафф, Джордж Саундерс  ...     Стивен Адриансон   \n",
       "4782                           Екатерина Гроховская  ...  Руслан Габдрахманов   \n",
       "4783  Дрю Флеминг, Алекс Кустанович, Рамиль Ямалеев  ...           Мэтт Гарри   \n",
       "4784            Александр Изотов, Александр Невский  ...          Майкл Трент   \n",
       "4785                                        Вл.Китт  ...              Вл.Китт   \n",
       "\n",
       "                                             genre        budget  \\\n",
       "0                                            драма   $25 000 000   \n",
       "1            фантастика, драма, криминал, детектив   $60 000 000   \n",
       "2      драма, мелодрама, комедия, история, военный   $55 000 000   \n",
       "3               драма, биография, история, военный   $22 000 000   \n",
       "4     фантастика, боевик, триллер, драма, детектив  $160 000 000   \n",
       "...                                            ...           ...   \n",
       "4781                   детектив, триллер, криминал           NaN   \n",
       "4782                   фэнтези, триллер, мелодрама           NaN   \n",
       "4783                           боевик, приключения           NaN   \n",
       "4784                    боевик, драма, приключения           NaN   \n",
       "4785                                       триллер           NaN   \n",
       "\n",
       "          cash_USA                            cash_total        cash_russia  \\\n",
       "0      $28 341 469        + $77 218 = $28 418 687, сборы            $87 432   \n",
       "1     $136 801 374  + $150 000 000 = $286 801 374, сборы                NaN   \n",
       "2     $329 694 499  + $347 693 217 = $677 387 716, сборы            $84 460   \n",
       "3      $96 065 768  + $225 240 537 = $321 306 305, сборы                NaN   \n",
       "4     $292 576 195  + $535 745 837 = $828 322 032, сборы        $21 760 177   \n",
       "...            ...                                   ...                ...   \n",
       "4781           NaN                                 сборы    $887 615, сборы   \n",
       "4782           NaN                                 сборы  $1 852 960, сборы   \n",
       "4783           NaN                                   NaN                NaN   \n",
       "4784           NaN                                   NaN                NaN   \n",
       "4785           NaN                                 сборы  $1 756 511, сборы   \n",
       "\n",
       "     kinopoisk_score imdb_score critics_score  \\\n",
       "0              9.111        9.3           90%   \n",
       "1              9.062        8.6           78%   \n",
       "2              8.913        8.8           70%   \n",
       "3              8.818        8.9           97%   \n",
       "4              8.662        8.8           87%   \n",
       "...              ...        ...           ...   \n",
       "4781           1.433        2.5           22%   \n",
       "4782           1.410        1.5           NaN   \n",
       "4783           1.373        1.8           NaN   \n",
       "4784           1.349        2.7           NaN   \n",
       "4785           1.110        1.2           NaN   \n",
       "\n",
       "                                               synopsis  \n",
       "0     Бухгалтер Энди Дюфрейн обвинён в убийстве собс...  \n",
       "1     Пол Эджкомб — начальник блока смертников в тюр...  \n",
       "2     От лица главного героя Форреста Гампа, слабоум...  \n",
       "3     Фильм рассказывает реальную историю загадочног...  \n",
       "4     Кобб — талантливый вор, лучший из лучших в опа...  \n",
       "...                                                 ...  \n",
       "4781  Майор московской полиции отправляется в Лос-Ан...  \n",
       "4782  Студентке Полине снится загадочный цветок на в...  \n",
       "4783  Стив Николс приезжает в Москву заключить контр...  \n",
       "4784  Американский профессор русского происхождения ...  \n",
       "4785  На ночных дорогах Москвы опасно  одна за друг...  \n",
       "\n",
       "[4786 rows x 24 columns]"
      ]
     },
     "execution_count": 7,
     "metadata": {},
     "output_type": "execute_result"
    }
   ],
   "source": [
    "data = pd.read_csv(PATH_TO_DATA / \"kinopoisk.csv\")\n",
    "print(data.info())\n",
    "data"
   ]
  },
  {
   "cell_type": "markdown",
   "metadata": {},
   "source": [
    "So, we have data for 4786 movies and all of them have non-null synopses and kinopoisk scores (one movie doesn't have a IMDb score).\n",
    "\n",
    "Let's now look at minimal and maximal synopsis length, and it's distribution."
   ]
  },
  {
   "cell_type": "code",
   "execution_count": 9,
   "metadata": {
    "pycharm": {
     "name": "#%%\n"
    },
    "scrolled": true
   },
   "outputs": [
    {
     "name": "stdout",
     "output_type": "stream",
     "text": [
      "Min sinopsis length: 52\n",
      "Max sinopsis length: 1469\n"
     ]
    },
    {
     "data": {
      "image/png": "[encoded data removed]",
      "text/plain": [
       "<Figure size 432x288 with 1 Axes>"
      ]
     },
     "metadata": {},
     "output_type": "display_data"
    }
   ],
   "source": [
    "print(\"Min sinopsis length:\", data['synopsis'].str.len().min())\n",
    "print(\"Max sinopsis length:\", data['synopsis'].str.len().max())\n",
    "sns.violinplot(data['synopsis'].str.len());"
   ]
  },
  {
   "cell_type": "markdown",
   "metadata": {},
   "source": [
    "So most of synopses have 200-600 symbols and longest is as much as 1469 symbols long! Let's see what it looks like."
   ]
  },
  {
   "cell_type": "code",
   "execution_count": 14,
   "metadata": {},
   "outputs": [
    {
     "name": "stdout",
     "output_type": "stream",
     "text": [
      "Гарри Поттер и Принц-полукровка / Harry Potter and the Half-Blood Prince\n",
      "\n",
      "\n",
      "Теперь не только мир волшебников, но и мир маглов ощущает на себе все возрастающую силу Волан-де-Морта, а Хогвартс уже никак не назовешь надежным убежищем, каким он был раньше. Гарри подозревает, что в самом замке затаилась некая опасность, но Дамблдор больше сосредоточен на том, чтобы подготовить его к финальной схватке, которая, как он знает, уже не за горами. Вместе они пытаются разгадать секрет бессмертия Волан-де-Морта, а для этого Дамблдор приглашает на должность преподавателя по зельеварению своего старинного друга и коллегу — профессора Горация Слизнорта, который обожает устраивать вечеринки для избранных и гордится своими обширными связями в высших кругах. Но этот бонвиван и не подозревает, что как раз от него Дамблдор надеется заполучить самую важную информацию о крестражах.Тем временем учеников атакуют самые разные враги, а подростковые эмоции хлещут через край. Гарри начинает понимать, что становится все более неравнодушным к Джинни, однако, и Дин Томас тоже. А Лаванда Браун вбила себе в голову, что Рон — тот самый единственный, которого она ждет, да вот только не учла волшебного эффекта шоколадных конфет Ромильды Вейн! Ну и, наконец, Гермиона пылает жгучей ревностью, но старается не показывать своих чувств. Пока романтические отношения расцветают, лишь один ученик остается в стороне. Он твердо намерен оставить свою метку, темную метку. Любовь витает в воздухе, но впереди ждет беда, и Хогвартс, возможно, уже никогда не будет прежним.\n"
     ]
    }
   ],
   "source": [
    "longest_synopsis_id = data['synopsis'].str.len().argmax()\n",
    "print(data.loc[longest_synopsis_id, 'title_ru'], '/', data.loc[longest_synopsis_id, 'title_orig'])\n",
    "print('\\n')\n",
    "print(data.loc[longest_synopsis_id, 'synopsis'])"
   ]
  },
  {
   "cell_type": "markdown",
   "metadata": {},
   "source": [
    "Now, let's look at the distribution of kinopoisk scores."
   ]
  },
  {
   "cell_type": "code",
   "execution_count": 15,
   "metadata": {
    "pycharm": {
     "name": "#%%\n"
    }
   },
   "outputs": [
    {
     "data": {
      "image/png": "[encoded data removed]",
      "text/plain": [
       "<Figure size 432x288 with 1 Axes>"
      ]
     },
     "metadata": {},
     "output_type": "display_data"
    }
   ],
   "source": [
    "sns.violinplot(data['kinopoisk_score']);"
   ]
  },
  {
   "cell_type": "markdown",
   "metadata": {},
   "source": [
    "So, most scores are between 5 and 8, let's compare it to IMDb scores distribution."
   ]
  },
  {
   "cell_type": "code",
   "execution_count": 16,
   "metadata": {},
   "outputs": [
    {
     "data": {
      "image/png": "[encoded data removed]",
      "text/plain": [
       "<Figure size 432x288 with 1 Axes>"
      ]
     },
     "metadata": {},
     "output_type": "display_data"
    }
   ],
   "source": [
    "sns.violinplot(data['imdb_score']);"
   ]
  },
  {
   "cell_type": "markdown",
   "metadata": {},
   "source": [
    "The distribution look smoother but pretty much alike the first one. Let's see how big is the correlation of scores from two different sites."
   ]
  },
  {
   "cell_type": "code",
   "execution_count": 17,
   "metadata": {},
   "outputs": [
    {
     "data": {
      "text/plain": [
       "0.8395873024592871"
      ]
     },
     "execution_count": 17,
     "metadata": {},
     "output_type": "execute_result"
    }
   ],
   "source": [
    "data['kinopoisk_score'].corr(data['imdb_score'])"
   ]
  },
  {
   "cell_type": "markdown",
   "metadata": {},
   "source": [
    "So we have a noticable positive correlation as one could expect, but it's not too strong.\n",
    "\n",
    "Finally let's remove line terminators from synopses and save them all in a separate file for GPT-2 fitting."
   ]
  },
  {
   "cell_type": "code",
   "execution_count": 8,
   "metadata": {
    "pycharm": {
     "name": "#%%\n"
    }
   },
   "outputs": [],
   "source": [
    "data['synopsis'] = data['synopsis'].str.replace('\\n', ' ').str.replace('\\r', ' ')\n",
    "data['synopsis'].to_csv(PATH_TO_DATA / \"gpt2_dataset.txt\", index=False, header=None, sep='@')"
   ]
  }
 ],
 "metadata": {
  "kernelspec": {
   "display_name": "Python 3",
   "language": "python",
   "name": "python3"
  },
  "language_info": {
   "codemirror_mode": {
    "name": "ipython",
    "version": 3
   },
   "file_extension": ".py",
   "mimetype": "text/x-python",
   "name": "python",
   "nbconvert_exporter": "python",
   "pygments_lexer": "ipython3",
   "version": "3.8.2"
  }
 },
 "nbformat": 4,
 "nbformat_minor": 1
}
